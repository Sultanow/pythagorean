{
 "cells": [
  {
   "cell_type": "code",
   "execution_count": 4,
   "metadata": {
    "id": "a42M43IPu1cD"
   },
   "outputs": [],
   "source": [
    "import numpy as np\n",
    "import pandas as pd\n",
    "from math import sqrt, isqrt\n",
    "import matplotlib.pyplot as plt\n",
    "from matplotlib.pyplot import figure"
   ]
  },
  {
   "cell_type": "code",
   "execution_count": 5,
   "metadata": {},
   "outputs": [],
   "source": [
    "def validate_triple(tp:list[int]) -> bool:\n",
    "    w = tp[0]\n",
    "    x = tp[1]\n",
    "    y = tp[2]\n",
    "    d = y*y-w*w\n",
    "    sd = isqrt(d)\n",
    "    if d != sd*sd:\n",
    "        return False\n",
    "    d = y*y-x*x\n",
    "    sd = isqrt(d)\n",
    "    if d != sd*sd:\n",
    "        return False\n",
    "    d = x*x-w*w\n",
    "    sd = isqrt(d)\n",
    "    if d != sd*sd:\n",
    "        return False\n",
    "    return True"
   ]
  },
  {
   "cell_type": "code",
   "execution_count": 2,
   "metadata": {},
   "outputs": [],
   "source": [
    "import pandas as pd\n",
    "\n",
    "df = pd.read_csv('../data/pythagorean_12000000.csv')\n",
    "df_small = df[0:100]\n",
    "triples = df_small[['x', 'z', 'w']].to_numpy()"
   ]
  },
  {
   "cell_type": "code",
   "execution_count": 12,
   "metadata": {},
   "outputs": [
    {
     "name": "stdout",
     "output_type": "stream",
     "text": [
      "1 2 2\n",
      "0 2 2\n",
      "2 2 3\n",
      "0 2 3\n",
      "0 1 2\n",
      "1 3 2\n",
      "0 1 3\n",
      "0 2 3\n",
      "1 2 3\n",
      "3 2 3\n",
      "1 2 2\n",
      "0 2 2\n",
      "2 2 3\n",
      "0 2 3\n",
      "1 2 2\n",
      "0 2 2\n",
      "0 1 2\n",
      "1 3 2\n",
      "0 3 2\n",
      "2 2 2\n",
      "0 1 3\n",
      "0 2 3\n",
      "1 2 3\n",
      "3 2 3\n",
      "1 3 3\n",
      "1 2 3\n",
      "2 2 3\n",
      "0 2 3\n",
      "1 2 2\n",
      "0 2 2\n",
      "0 1 2\n",
      "1 3 2\n",
      "2 2 2\n",
      "0 2 2\n",
      "0 1 3\n",
      "0 2 3\n",
      "1 2 3\n",
      "3 2 3\n",
      "2 3 3\n",
      "2 3 3\n",
      "1 3 3\n",
      "1 3 3\n",
      "1 2 3\n",
      "1 2 3\n",
      "1 1 3\n",
      "1 3 3\n",
      "2 2 3\n",
      "0 2 3\n",
      "1 2 3\n",
      "0 3 3\n",
      "1 1 2\n",
      "2 3 2\n",
      "1 2 2\n",
      "0 2 2\n",
      "1 2 4\n",
      "1 2 4\n",
      "0 1 2\n",
      "1 3 2\n",
      "0 3 2\n",
      "2 2 2\n",
      "0 1 3\n",
      "0 2 3\n",
      "1 2 3\n",
      "3 2 3\n",
      "3 3 2\n",
      "0 1 2\n",
      "3 3 4\n",
      "1 3 4\n",
      "1 2 2\n",
      "0 2 2\n",
      "1 3 3\n",
      "1 2 3\n",
      "1 2 3\n",
      "2 4 3\n",
      "1 2 4\n",
      "1 3 4\n",
      "1 2 4\n",
      "1 2 4\n",
      "2 3 4\n",
      "4 3 4\n",
      "2 2 3\n",
      "0 2 3\n",
      "1 2 2\n",
      "0 2 2\n",
      "1 2 2\n",
      "0 2 2\n",
      "1 2 2\n",
      "0 2 2\n",
      "0 1 2\n",
      "1 3 2\n",
      "2 2 3\n",
      "0 2 3\n",
      "0 3 2\n",
      "2 2 2\n",
      "2 2 2\n",
      "0 2 2\n",
      "0 1 3\n",
      "0 2 3\n",
      "1 2 3\n",
      "3 2 3\n"
     ]
    }
   ],
   "source": [
    "from sympy.ntheory.factor_ import factorint\n",
    "\n",
    "def count_primes_4xplus1(n:int):\n",
    "    cnt = 0\n",
    "    cnts = factorint(n)\n",
    "    for prime, prime_cnt in cnts.items():\n",
    "        if prime % 4 == 1:\n",
    "            cnt += prime_cnt\n",
    "    return cnt\n",
    "\n",
    "def analyze_counts(triples:list[int]):\n",
    "    rows = triples.shape[0]\n",
    "    for row in range(0, rows):\n",
    "        w = triples[row][0]\n",
    "        x = triples[row][1]\n",
    "        y = triples[row][2]\n",
    "        print(count_primes_4xplus1(w),count_primes_4xplus1(x),count_primes_4xplus1(y))\n",
    "\n",
    "analyze_counts(triples)"
   ]
  },
  {
   "cell_type": "code",
   "execution_count": 9,
   "metadata": {},
   "outputs": [
    {
     "name": "stdout",
     "output_type": "stream",
     "text": [
      "[[697.   153.   185.   104.   672.   680.  ]\n",
      " [697.   705.3  680.   187.2  153.   107.87]\n",
      " [697.   491.4  107.87 479.42 705.3  852.81]\n",
      " [697.   842.78 852.81 130.43 491.4  473.78]\n",
      " [697.   672.   473.78 822.22 842.78 185.  ]\n",
      " [697.   153.   185.   104.   672.   680.  ]]\n"
     ]
    },
    {
     "name": "stderr",
     "output_type": "stream",
     "text": [
      "C:\\Users\\esultano\\AppData\\Local\\Temp/ipykernel_5936/731959858.py:28: DeprecationWarning: `np.float` is a deprecated alias for the builtin `float`. To silence this warning, use `float` by itself. Doing this will not modify any behavior and is safe. If you specifically wanted the numpy scalar type, use `np.float64` here.\n",
      "Deprecated in NumPy 1.20; for more details and guidance: https://numpy.org/devdocs/release/1.20.0-notes.html#deprecations\n",
      "  res = np.empty((6,6), dtype=np.float)\n",
      "C:\\Users\\esultano\\AppData\\Local\\Temp/ipykernel_5936/731959858.py:29: DeprecationWarning: `np.float` is a deprecated alias for the builtin `float`. To silence this warning, use `float` by itself. Doing this will not modify any behavior and is safe. If you specifically wanted the numpy scalar type, use `np.float64` here.\n",
      "Deprecated in NumPy 1.20; for more details and guidance: https://numpy.org/devdocs/release/1.20.0-notes.html#deprecations\n",
      "  tuple = np.array(get_6tuple(triple), dtype=np.float)\n",
      "C:\\Users\\esultano\\AppData\\Local\\Temp/ipykernel_5936/731959858.py:25: DeprecationWarning: `np.float` is a deprecated alias for the builtin `float`. To silence this warning, use `float` by itself. Doing this will not modify any behavior and is safe. If you specifically wanted the numpy scalar type, use `np.float64` here.\n",
      "Deprecated in NumPy 1.20; for more details and guidance: https://numpy.org/devdocs/release/1.20.0-notes.html#deprecations\n",
      "  return [y, np.float(y*w/v), w, np.float(tuple[2]*w/v), tuple[1], np.float(y*tuple[3]/v)]\n"
     ]
    }
   ],
   "source": [
    "def get_6tuple(tp:list[float]) -> list[float]:\n",
    "    w = tp[0]\n",
    "    x = tp[1]\n",
    "    y = tp[2]\n",
    "    return [y,w,x,sqrt(x**2-w**2),sqrt(y**2-x**2),sqrt(y**2-w**2)]\n",
    "\n",
    "def rotate(tuple:list[float]) -> list[float]:\n",
    "    y = tuple[0]\n",
    "    v = tuple[4]\n",
    "    w = tuple[5]\n",
    "    return [y, y*w/v, w, tuple[2]*w/v, tuple[1], y*tuple[3]/v]\n",
    "\n",
    "def generate_cycle(triple:list[int]) -> list:\n",
    "    res = []\n",
    "    tuple = get_6tuple(triple)\n",
    "    for i in range (0,6):\n",
    "        res.append(tuple)\n",
    "        tuple = rotate(tuple)\n",
    "    return res\n",
    "\n",
    "def rotate_np(tuple:np.ndarray) -> np.ndarray:\n",
    "    y = tuple[0]\n",
    "    v = tuple[4] #=y^2-x^2\n",
    "    w = tuple[5] #=y^2-w^2\n",
    "    return [y, np.float(y*w/v), w, np.float(tuple[2]*w/v), tuple[1], np.float(y*tuple[3]/v)]\n",
    "\n",
    "def generate_cycle_np(triple:np.ndarray) -> np.ndarray:\n",
    "    res = np.empty((6,6), dtype=np.float)\n",
    "    tuple = np.array(get_6tuple(triple), dtype=np.float)\n",
    "    for i in range (0,6):\n",
    "        res[i]=tuple\n",
    "        tuple = rotate_np(tuple)\n",
    "    return res\n",
    "\n",
    "triple = [153, 185, 697]\n",
    "print(np.array_str(generate_cycle_np(triple), precision=2, suppress_small=True))\n"
   ]
  },
  {
   "cell_type": "code",
   "execution_count": 46,
   "metadata": {},
   "outputs": [
    {
     "data": {
      "text/plain": [
       "[<matplotlib.lines.Line2D at 0x7f2e90fb3c10>]"
      ]
     },
     "execution_count": 46,
     "metadata": {},
     "output_type": "execute_result"
    },
    {
     "data": {
      "image/png": "[encoded data removed]",
      "text/plain": [
       "<Figure size 432x288 with 1 Axes>"
      ]
     },
     "metadata": {
      "needs_background": "light"
     },
     "output_type": "display_data"
    }
   ],
   "source": [
    "import matplotlib.pyplot as plt\n",
    "\n",
    "limit = 80\n",
    "dom = np.linspace(1,limit,limit)\n",
    "\n",
    "triples_sorted = triples[triples[:, 2].argsort()]\n",
    "w = triples_sorted[0:limit,0]\n",
    "x = triples_sorted[0:limit,1]\n",
    "y = triples_sorted[0:limit,2]\n",
    "\n",
    "plt.plot(dom, w)\n",
    "plt.plot(dom, x)\n",
    "plt.plot(dom, y)"
   ]
  },
  {
   "cell_type": "code",
   "execution_count": null,
   "metadata": {},
   "outputs": [],
   "source": []
  }
 ],
 "metadata": {
  "colab": {
   "collapsed_sections": [],
   "name": "graphwizz-tree.ipynb",
   "provenance": [],
   "toc_visible": true
  },
  "kernelspec": {
   "display_name": "Python 3",
   "language": "python",
   "name": "python3"
  },
  "language_info": {
   "codemirror_mode": {
    "name": "ipython",
    "version": 3
   },
   "file_extension": ".py",
   "mimetype": "text/x-python",
   "name": "python",
   "nbconvert_exporter": "python",
   "pygments_lexer": "ipython3",
   "version": "3.9.7"
  }
 },
 "nbformat": 4,
 "nbformat_minor": 4
}
