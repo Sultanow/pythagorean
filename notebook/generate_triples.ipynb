{
 "cells": [
  {
   "cell_type": "code",
   "execution_count": 2,
   "metadata": {
    "id": "a42M43IPu1cD"
   },
   "outputs": [],
   "source": [
    "import numpy as np\n",
    "import pandas as pd\n",
    "from math import sqrt, isqrt\n",
    "import matplotlib.pyplot as plt\n",
    "from matplotlib.pyplot import figure\n",
    "from sympy import sieve, prime"
   ]
  },
  {
   "cell_type": "markdown",
   "metadata": {},
   "source": [
    "We generate triples according the [solution of poetasis](https://math.stackexchange.com/a/4384616/993738) provided at Math Stack Exchange."
   ]
  },
  {
   "cell_type": "code",
   "execution_count": 21,
   "metadata": {},
   "outputs": [
    {
     "name": "stdout",
     "output_type": "stream",
     "text": [
      "[[47, 1104, 1105], [817, 744, 1105], [943, 576, 1105], [1073, 264, 1105]]\n"
     ]
    }
   ],
   "source": [
    "\n",
    "#primes = [i for i in sieve.primerange(7, 19)]\n",
    "\n",
    "def find_triples(y:int) -> list[int]:\n",
    "    upper = isqrt(y-1)\n",
    "    lower = (1 + isqrt(2*y-1))//2\n",
    "    res = []\n",
    "    for m in range (lower, upper+1):\n",
    "        d = y - m * m\n",
    "        sqrt_d = isqrt(d)\n",
    "        if sqrt_d * sqrt_d == d:\n",
    "            w=m*m-d\n",
    "            x=2*m*sqrt_d\n",
    "            res.append([w,x,y])\n",
    "    return res\n",
    "\n",
    "print(find_triples(1105))\n",
    "\n",
    "\n",
    "2856,3219,3315"
   ]
  },
  {
   "cell_type": "code",
   "execution_count": 23,
   "metadata": {},
   "outputs": [
    {
     "name": "stdout",
     "output_type": "stream",
     "text": [
      "9\n",
      "153 144 145\n"
     ]
    }
   ],
   "source": [
    "#Fix this according this parametric solution:\n",
    "#https://math.stackexchange.com/a/3285575/993738\n",
    "\n",
    "from sympy import factorint\n",
    "from math import sqrt, isqrt\n",
    "def get_divisor(n:int)->int:\n",
    "    divisor = 1\n",
    "    cnts = factorint(n)\n",
    "    for prime, prime_cnt in cnts.items():\n",
    "        if prime % 4 != 1:\n",
    "           divisor = divisor * prime**prime_cnt\n",
    "    return divisor\n",
    "\n",
    "def generate_triples(w:int, x:int):\n",
    "    w_ = w//get_divisor(w)\n",
    "    lower_m = isqrt(w_ + 1)\n",
    "    upper_m = (w_ + 1)//2\n",
    "    for m in range (lower_m, upper_m + 1):\n",
    "        d = m*m - w_\n",
    "        if d>0:\n",
    "            k = isqrt(m*m - w_)\n",
    "            if k*k == m*m - w_:\n",
    "                y = m*m+k*k\n",
    "                print(w, 2*m*k, y)\n",
    "\n",
    "print(get_divisor(153))\n",
    "generate_triples(153, 185)"
   ]
  },
  {
   "cell_type": "code",
   "execution_count": null,
   "metadata": {},
   "outputs": [],
   "source": [
    "lower_k = (1 + isqrt(2*x + 1))//2\n",
    "        upper_k = x//2\n",
    "        for k in range (lower_k, upper_k + 1):\n",
    "\n",
    "    "
   ]
  },
  {
   "cell_type": "code",
   "execution_count": 23,
   "metadata": {},
   "outputs": [
    {
     "name": "stdout",
     "output_type": "stream",
     "text": [
      "792.0\n",
      "1683.0\n",
      "1485.0\n"
     ]
    }
   ],
   "source": [
    "print(sqrt(3315**2-3219**2))\n",
    "print(sqrt(3315**2-2856**2))\n",
    "print(sqrt(3219**2-2856**2))"
   ]
  }
 ],
 "metadata": {
  "colab": {
   "collapsed_sections": [],
   "name": "graphwizz-tree.ipynb",
   "provenance": [],
   "toc_visible": true
  },
  "kernelspec": {
   "display_name": "Python 3",
   "language": "python",
   "name": "python3"
  },
  "language_info": {
   "codemirror_mode": {
    "name": "ipython",
    "version": 3
   },
   "file_extension": ".py",
   "mimetype": "text/x-python",
   "name": "python",
   "nbconvert_exporter": "python",
   "pygments_lexer": "ipython3",
   "version": "3.9.7"
  }
 },
 "nbformat": 4,
 "nbformat_minor": 4
}
