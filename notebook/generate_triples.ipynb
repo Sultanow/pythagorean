{
 "cells": [
  {
   "cell_type": "code",
   "execution_count": 1,
   "metadata": {
    "id": "a42M43IPu1cD"
   },
   "outputs": [],
   "source": [
    "import numpy as np\n",
    "import pandas as pd\n",
    "from math import sqrt, isqrt\n",
    "import matplotlib.pyplot as plt\n",
    "from matplotlib.pyplot import figure\n",
    "from sympy import sieve, prime"
   ]
  },
  {
   "cell_type": "markdown",
   "metadata": {},
   "source": [
    "We generate triples according the [solution of poetasis](https://math.stackexchange.com/a/4384616/993738) provided at Math Stack Exchange."
   ]
  },
  {
   "cell_type": "code",
   "execution_count": 11,
   "metadata": {},
   "outputs": [
    {
     "name": "stdout",
     "output_type": "stream",
     "text": [
      "[[47, 1104, 1105], [817, 744, 1105], [943, 576, 1105], [1073, 264, 1105]]\n"
     ]
    }
   ],
   "source": [
    "\n",
    "primes = [i for i in sieve.primerange(7, 19)]\n",
    "\n",
    "def find_triples(y:int) -> list[int]:\n",
    "    upper = isqrt(y-1)\n",
    "    lower = (1 + isqrt(2*y-1))//2\n",
    "    res = []\n",
    "    for m in range (lower, upper+1):\n",
    "        d = y - m * m\n",
    "        sqrt_d = isqrt(d)\n",
    "        if sqrt_d * sqrt_d == d:\n",
    "            w=m*m-d\n",
    "            x=2*m*sqrt_d\n",
    "            res.append([w,x,y])\n",
    "    return res\n",
    "\n",
    "print(find_triples(1105))"
   ]
  }
 ],
 "metadata": {
  "colab": {
   "collapsed_sections": [],
   "name": "graphwizz-tree.ipynb",
   "provenance": [],
   "toc_visible": true
  },
  "kernelspec": {
   "display_name": "Python 3",
   "language": "python",
   "name": "python3"
  },
  "language_info": {
   "codemirror_mode": {
    "name": "ipython",
    "version": 3
   },
   "file_extension": ".py",
   "mimetype": "text/x-python",
   "name": "python",
   "nbconvert_exporter": "python",
   "pygments_lexer": "ipython3",
   "version": "3.9.7"
  }
 },
 "nbformat": 4,
 "nbformat_minor": 4
}
