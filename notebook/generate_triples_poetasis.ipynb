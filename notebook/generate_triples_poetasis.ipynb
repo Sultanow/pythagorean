{
 "cells": [
  {
   "cell_type": "markdown",
   "metadata": {},
   "source": [
    "$d^2=\\mid x^2-y^2 \\mid \\quad F(n,k)=(w,x,y)$"
   ]
  },
  {
   "cell_type": "code",
   "execution_count": 10,
   "metadata": {},
   "outputs": [],
   "source": [
    "from math import isqrt\n",
    "\n",
    "l0=1 #lowest Set number\n",
    "n9=1000 #Enter highest Set number\n",
    "c9=1 #Number of Triples per Set\n",
    "#k9 = 10000000\n",
    "k9 = 1000\n",
    "\n",
    "#Find w,x,y diff perfect squares\n",
    "for n1 in range(l0, n9+1):\n",
    "    c1 = 0\n",
    "    for k1 in range(1, k9):\n",
    "        w1 = (2*n1-1)**2+2*(2*n1-1)*k1\n",
    "        x1 = 2*(2*n1-1)*k1+2*k1**2\n",
    "        d2 = abs(w1**2-x1**2)\n",
    "        d1 = isqrt(d2)\n",
    "        if d1*d1 == d2:\n",
    "            y1 = (2*n1-1)**2+2*(2*n1-1)*k1+2*k1**2\n",
    "            print(\"d={0}, F({1}, {2})=({3}, {4}, {5})\".format(d1,n1,k1,w1,x1,y1))\n",
    "            c1 = c1+1\n",
    "            if c1 == c9:\n",
    "                k1 == k9"
   ]
  }
 ],
 "metadata": {
  "colab": {
   "collapsed_sections": [],
   "name": "graphwizz-tree.ipynb",
   "provenance": [],
   "toc_visible": true
  },
  "kernelspec": {
   "display_name": "Python 3",
   "language": "python",
   "name": "python3"
  },
  "language_info": {
   "codemirror_mode": {
    "name": "ipython",
    "version": 3
   },
   "file_extension": ".py",
   "mimetype": "text/x-python",
   "name": "python",
   "nbconvert_exporter": "python",
   "pygments_lexer": "ipython3",
   "version": "3.9.7"
  }
 },
 "nbformat": 4,
 "nbformat_minor": 4
}
