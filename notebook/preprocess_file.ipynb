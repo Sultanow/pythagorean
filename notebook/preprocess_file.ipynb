{
 "cells": [
  {
   "cell_type": "code",
   "execution_count": 11,
   "metadata": {},
   "outputs": [],
   "source": [
    "from sympy.ntheory.primetest import is_square \n",
    "from math import sqrt\n",
    "import pandas as pd\n",
    "import time\n",
    "from sys import argv\n",
    "import os\n",
    "\n",
    "f = open('pythagorean_stu_Arty.txt', 'r')\n",
    "f2 = open('pythagorean_stu_Arty_.txt', 'w')\n",
    "f.seek(0)\n",
    "lines = f.readlines()\n",
    "for line in lines:\n",
    "    f2.write(line[1:-2])\n",
    "    f2.write(\"\\n\")\n",
    "f.close()\n",
    "f2.close()"
   ]
  }
 ],
 "metadata": {
  "interpreter": {
   "hash": "ba7748335453189f9d38dabd374f9b1b064d42a7226279b34266d22bb23b64eb"
  },
  "kernelspec": {
   "display_name": "Python 3.9.7 64-bit ('base': conda)",
   "language": "python",
   "name": "python3"
  },
  "language_info": {
   "codemirror_mode": {
    "name": "ipython",
    "version": 3
   },
   "file_extension": ".py",
   "mimetype": "text/x-python",
   "name": "python",
   "nbconvert_exporter": "python",
   "pygments_lexer": "ipython3",
   "version": "3.9.7"
  },
  "orig_nbformat": 4
 },
 "nbformat": 4,
 "nbformat_minor": 2
}
