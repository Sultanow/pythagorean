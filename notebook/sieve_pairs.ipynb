{
 "cells": [
  {
   "cell_type": "code",
   "execution_count": 1,
   "metadata": {
    "id": "a42M43IPu1cD"
   },
   "outputs": [],
   "source": [
    "import numpy as np\n",
    "import pandas as pd\n",
    "from math import sqrt, isqrt\n",
    "import matplotlib.pyplot as plt\n",
    "from matplotlib.pyplot import figure"
   ]
  },
  {
   "cell_type": "code",
   "execution_count": 2,
   "metadata": {},
   "outputs": [],
   "source": [
    "import pandas as pd\n",
    "\n",
    "df = pd.read_csv('C:/Users/esultano/Downloads/cpp_solutions.2.2097152.1.2097152.csv')"
   ]
  },
  {
   "cell_type": "code",
   "execution_count": 4,
   "metadata": {},
   "outputs": [
    {
     "name": "stdout",
     "output_type": "stream",
     "text": [
      "0\n"
     ]
    }
   ],
   "source": [
    "from sympy import factorint\n",
    "\n",
    "max_rows = 100\n",
    "#max_rows = df.shape[0]\n",
    "df_small = df[0:max_rows]\n",
    "pairs = df_small.to_numpy()\n",
    "\n",
    "def exact_divisibility_two(n):\n",
    "    d = 0\n",
    "    while n%2 == 0:\n",
    "        n /= 2\n",
    "        d+=1\n",
    "    return d\n",
    "\n",
    "def count_primes_4xplus1(n:int):\n",
    "    cnt = 0\n",
    "    cnts = factorint(n)\n",
    "    for prime, prime_cnt in cnts.items():\n",
    "        if prime % 4 == 1:\n",
    "            cnt += prime_cnt\n",
    "    return cnt\n",
    "\n",
    "def sieve_pairs(pairs:list[int]) -> int:\n",
    "    rows = pairs.shape[0]\n",
    "    cnt = 0\n",
    "    for i, row in enumerate(range(0, rows)):\n",
    "        w = pairs[row][0]\n",
    "        x = pairs[row][1]\n",
    "        \n",
    "        #rule 1: x must contain a prime factor 4k+1\n",
    "        if count_primes_4xplus1(x) == 0:\n",
    "            cnt += 1\n",
    "        \n",
    "        #rule 2: divisibility pattern\n",
    "        div_w=exact_divisibility_two(w)\n",
    "        div_x=exact_divisibility_two(x)\n",
    "        if div_w - div_x == 1:\n",
    "            cnt += 1\n",
    "    return cnt\n",
    "\n",
    "sieve_count = sieve_pairs(pairs)\n",
    "print(sieve_count)\n"
   ]
  }
 ],
 "metadata": {
  "colab": {
   "collapsed_sections": [],
   "name": "graphwizz-tree.ipynb",
   "provenance": [],
   "toc_visible": true
  },
  "kernelspec": {
   "display_name": "Python 3",
   "language": "python",
   "name": "python3"
  },
  "language_info": {
   "codemirror_mode": {
    "name": "ipython",
    "version": 3
   },
   "file_extension": ".py",
   "mimetype": "text/x-python",
   "name": "python",
   "nbconvert_exporter": "python",
   "pygments_lexer": "ipython3",
   "version": "3.9.7"
  }
 },
 "nbformat": 4,
 "nbformat_minor": 4
}
