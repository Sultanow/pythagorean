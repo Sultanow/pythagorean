{
 "cells": [
  {
   "cell_type": "code",
   "execution_count": 1,
   "metadata": {
    "id": "a42M43IPu1cD"
   },
   "outputs": [],
   "source": [
    "import numpy as np\n",
    "import pandas as pd\n",
    "from math import sqrt, isqrt\n",
    "import matplotlib.pyplot as plt\n",
    "from matplotlib.pyplot import figure"
   ]
  },
  {
   "cell_type": "code",
   "execution_count": null,
   "metadata": {},
   "outputs": [],
   "source": [
    "import os\n",
    "\n",
    "def parse(fname, proc):\n",
    "    with open(fname, 'r', encoding = 'utf-8') as f:\n",
    "        for line in f:\n",
    "            line = line.strip()\n",
    "            if not line:\n",
    "                continue\n",
    "            nums = list(map(int, line.split(', ')))\n",
    "            proc(nums)\n",
    "\n",
    "t3_exists = set()\n",
    "def proc3(ns):\n",
    "    t3_exists.add(tuple(ns[:2]))\n",
    "parse('cpp_solutions.3.2097152.1.2097152', proc3)\n",
    "\n",
    "with open('cpp_solutions.2.2097152.1.2097152.triple_marked', 'w', encoding = 'ascii') as f:\n",
    "    cnt = 0\n",
    "    def proc2(ns):\n",
    "        global cnt\n",
    "        flag = int(tuple(ns[:2]) in t3_exists)\n",
    "        f.write(f'{ns[0]}, {ns[1]}, {flag}\\n')\n",
    "        if cnt % 500_000 == 0:\n",
    "            print(round((os.path.getsize('cpp_solutions.2.2097152.1.2097152.triple_marked') - cnt * 3) /\n",
    "                os.path.getsize('cpp_solutions.2.2097152.1.2097152') * 100, 1), '%, ', sep = '', end = '', flush = True)\n",
    "        cnt += 1\n",
    "    parse('cpp_solutions.2.2097152.1.2097152', proc2)"
   ]
  },
  {
   "cell_type": "code",
   "execution_count": 1,
   "metadata": {},
   "outputs": [],
   "source": [
    "import pandas as pd\n",
    "\n",
    "df = pd.read_csv('C:/Users/esultano/Downloads/cpp_solutions.3.2097152.1.2097152.csv')"
   ]
  },
  {
   "cell_type": "code",
   "execution_count": 2,
   "metadata": {},
   "outputs": [
    {
     "name": "stdout",
     "output_type": "stream",
     "text": [
      "0\n"
     ]
    }
   ],
   "source": [
    "from sympy import factorint\n",
    "\n",
    "max_rows = 100\n",
    "#max_rows = df.shape[0]\n",
    "df_small = df[0:max_rows]\n",
    "pairs = df_small.to_numpy()\n",
    "\n",
    "def exact_divisibility_two(n):\n",
    "    d = 0\n",
    "    while n%2 == 0:\n",
    "        n /= 2\n",
    "        d+=1\n",
    "    return d\n",
    "\n",
    "def count_primes_4xplus1(n:int):\n",
    "    cnt = 0\n",
    "    cnts = factorint(n)\n",
    "    for prime, prime_cnt in cnts.items():\n",
    "        if prime % 4 == 1:\n",
    "            cnt += prime_cnt\n",
    "    return cnt\n",
    "\n",
    "def sieve_pairs(pairs:list[int]) -> int:\n",
    "    rows = pairs.shape[0]\n",
    "    cnt = 0\n",
    "    for i, row in enumerate(range(0, rows)):\n",
    "        w = pairs[row][0]\n",
    "        x = pairs[row][1]\n",
    "        \n",
    "        #rule 1: x must contain a prime factor 4k+1\n",
    "        if count_primes_4xplus1(x) == 0:\n",
    "            cnt += 1\n",
    "        \n",
    "        #rule 2: divisibility pattern\n",
    "        div_w=exact_divisibility_two(w)\n",
    "        div_x=exact_divisibility_two(x)\n",
    "        if div_w - div_x == 1:\n",
    "            cnt += 1\n",
    "    return cnt\n",
    "\n",
    "sieve_count = sieve_pairs(pairs)\n",
    "print(sieve_count)\n"
   ]
  }
 ],
 "metadata": {
  "colab": {
   "collapsed_sections": [],
   "name": "graphwizz-tree.ipynb",
   "provenance": [],
   "toc_visible": true
  },
  "kernelspec": {
   "display_name": "Python 3",
   "language": "python",
   "name": "python3"
  },
  "language_info": {
   "codemirror_mode": {
    "name": "ipython",
    "version": 3
   },
   "file_extension": ".py",
   "mimetype": "text/x-python",
   "name": "python",
   "nbconvert_exporter": "python",
   "pygments_lexer": "ipython3",
   "version": "3.9.7"
  }
 },
 "nbformat": 4,
 "nbformat_minor": 4
}
