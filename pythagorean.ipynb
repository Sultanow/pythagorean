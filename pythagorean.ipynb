{
 "cells": [
  {
   "cell_type": "code",
   "execution_count": 5,
   "metadata": {},
   "outputs": [],
   "source": [
    "from sympy.ntheory.primetest import is_square \n",
    "from math import sqrt\n",
    "\n",
    "import pandas as pd"
   ]
  },
  {
   "cell_type": "code",
   "execution_count": 7,
   "metadata": {},
   "outputs": [],
   "source": [
    "limit=1000000\n",
    "A=[None]*limit\n",
    "B=[None]*limit\n",
    "triples=[]\n",
    "for w in range(1,limit+1):\n",
    "    count=0\n",
    "    for a in range (1,w+1):\n",
    "        if is_square(w*w-a*a):\n",
    "            count+=1\n",
    "            A[count]=a\n",
    "            B[count]=int(sqrt(w*w-a*a))\n",
    "    if count>1:\n",
    "        for i in range(1,count+1):\n",
    "            for j in range(1,count+1):\n",
    "                if i!=j:\n",
    "                    x=A[i]\n",
    "                    t=B[i]\n",
    "                    s=A[j]\n",
    "                    z=B[j]\n",
    "                    if is_square(z*z-x*x):\n",
    "                        y=sqrt(z*z-x*x)\n",
    "                        if y>0:\n",
    "                            #print([x,y,z,s,t,w])\n",
    "                            triples.append([x,z,w])\n",
    "\n",
    "df = pd.DataFrame(triples, columns = ['x', 'y', 'z'])"
   ]
  },
  {
   "cell_type": "code",
   "execution_count": null,
   "metadata": {},
   "outputs": [
    {
     "name": "stdout",
     "output_type": "stream",
     "text": [
      "(4, 3)\n"
     ]
    }
   ],
   "source": [
    "print(df.shape)\n",
    "df.to_csv('c:/temp/pythagorean_' + str(limit) + '.csv', index=False)"
   ]
  },
  {
   "cell_type": "code",
   "execution_count": null,
   "metadata": {},
   "outputs": [],
   "source": [
    "df['x'].value_counts()\n",
    "df['y'].value_counts()\n",
    "df['z'].value_counts()"
   ]
  },
  {
   "cell_type": "code",
   "execution_count": null,
   "metadata": {},
   "outputs": [],
   "source": [
    "quad=[7800,8584,9605,9997]\n",
    "\n",
    "w=quad[0]\n",
    "x=quad[1]\n",
    "y=quad[2]\n",
    "z=quad[3]\n",
    "\n",
    "def validateQuadruple(w:int, x:int, y, z:int) -> bool:\n",
    "    d1=z*z-y*y\n",
    "    d2=z*z-x*x\n",
    "    d3=z*z-w*w\n",
    "    d4=y*y-x*x\n",
    "    d5=y*y-w*w\n",
    "    d6=x*x-w*w\n",
    "    print([sqrt(d1),sqrt(d2),sqrt(d3),sqrt(d4),sqrt(d5),sqrt(d6)])\n",
    "    if is_square(d1) and is_square(d2) and is_square(d3) and is_square(d4) and is_square(d5) and is_square(d6):\n",
    "        return True\n",
    "    return False\n",
    "\n",
    "validateQuadruple(w,x,y,z)\n",
    "f=1 #73*1553*73*1553*73*1553\n",
    "validateQuadruple(w*f,x*f,y*f,z*f)\n",
    "\n",
    "#unfortunatelly 1020321=3*3*73*1553 is not a square\n",
    "#for f in range(2,1000000):\n",
    "#    validateQuadruple(w*f,x*f,y*f,z*f)"
   ]
  }
 ],
 "metadata": {
  "interpreter": {
   "hash": "ba7748335453189f9d38dabd374f9b1b064d42a7226279b34266d22bb23b64eb"
  },
  "kernelspec": {
   "display_name": "Python 3.9.7 64-bit ('base': conda)",
   "language": "python",
   "name": "python3"
  },
  "language_info": {
   "codemirror_mode": {
    "name": "ipython",
    "version": 3
   },
   "file_extension": ".py",
   "mimetype": "text/x-python",
   "name": "python",
   "nbconvert_exporter": "python",
   "pygments_lexer": "ipython3",
   "version": "3.8.11"
  },
  "orig_nbformat": 4
 },
 "nbformat": 4,
 "nbformat_minor": 2
}
