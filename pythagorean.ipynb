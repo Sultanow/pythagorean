{
 "cells": [
  {
   "cell_type": "code",
   "execution_count": 54,
   "metadata": {},
   "outputs": [],
   "source": [
    "from sympy.ntheory.primetest import is_square \n",
    "from math import sqrt\n",
    "\n",
    "import pandas as pd\n",
    "import time"
   ]
  },
  {
   "cell_type": "code",
   "execution_count": 58,
   "metadata": {},
   "outputs": [
    {
     "name": "stdout",
     "output_type": "stream",
     "text": [
      "Time elapsed: 53.93868637084961\n"
     ]
    }
   ],
   "source": [
    "# non-optimized Python version of script from\n",
    "# https://math.stackexchange.com/questions/3278660/solutions-to-a-system-of-three-equations-with-pythagorean-triples\n",
    "\n",
    "start = time.time()\n",
    "\n",
    "limit=10000\n",
    "A=[None]*limit\n",
    "B=[None]*limit\n",
    "triples=[[0 for c in range(6)] for r in range(limit)]\n",
    "rows=0\n",
    "for w in range(1,limit+1):\n",
    "    count=0\n",
    "    for a in range (1,w+1):\n",
    "        if is_square(w*w-a*a):\n",
    "            count+=1\n",
    "            A[count]=a\n",
    "            B[count]=int(sqrt(w*w-a*a))\n",
    "    if count>1:\n",
    "        for i in range(1,count+1):\n",
    "            for j in range(1,count+1):\n",
    "                if i!=j:\n",
    "                    x=A[i]\n",
    "                    t=B[i]\n",
    "                    s=A[j]\n",
    "                    z=B[j]\n",
    "                    if is_square(z*z-x*x):\n",
    "                        y=sqrt(z*z-x*x)\n",
    "                        if y>0:\n",
    "                            triples[rows]=[x, y, z, s, t, w]\n",
    "                            rows+=1\n",
    "\n",
    "end = time.time()\n",
    "print(\"Time elapsed: {0}\".format(end - start))\n",
    "\n",
    "df = pd.DataFrame(triples, columns = ['x', 'y', 'z', 's', 't', 'w'])"
   ]
  },
  {
   "cell_type": "code",
   "execution_count": 59,
   "metadata": {},
   "outputs": [
    {
     "name": "stdout",
     "output_type": "stream",
     "text": [
      "(10000, 6)\n"
     ]
    }
   ],
   "source": [
    "print(df.shape)\n",
    "df.to_csv('c:/temp/pythagorean_' + str(limit) + '.csv', index=False)"
   ]
  },
  {
   "cell_type": "code",
   "execution_count": 2,
   "metadata": {},
   "outputs": [
    {
     "data": {
      "text/html": [
       "<div>\n",
       "<style scoped>\n",
       "    .dataframe tbody tr th:only-of-type {\n",
       "        vertical-align: middle;\n",
       "    }\n",
       "\n",
       "    .dataframe tbody tr th {\n",
       "        vertical-align: top;\n",
       "    }\n",
       "\n",
       "    .dataframe thead th {\n",
       "        text-align: right;\n",
       "    }\n",
       "</style>\n",
       "<table border=\"1\" class=\"dataframe\">\n",
       "  <thead>\n",
       "    <tr style=\"text-align: right;\">\n",
       "      <th></th>\n",
       "      <th>x</th>\n",
       "      <th>y</th>\n",
       "      <th>z</th>\n",
       "    </tr>\n",
       "  </thead>\n",
       "  <tbody>\n",
       "    <tr>\n",
       "      <th>0</th>\n",
       "      <td>153</td>\n",
       "      <td>185</td>\n",
       "      <td>697</td>\n",
       "    </tr>\n",
       "    <tr>\n",
       "      <th>1</th>\n",
       "      <td>672</td>\n",
       "      <td>680</td>\n",
       "      <td>697</td>\n",
       "    </tr>\n",
       "    <tr>\n",
       "      <th>2</th>\n",
       "      <td>520</td>\n",
       "      <td>533</td>\n",
       "      <td>925</td>\n",
       "    </tr>\n",
       "    <tr>\n",
       "      <th>3</th>\n",
       "      <td>756</td>\n",
       "      <td>765</td>\n",
       "      <td>925</td>\n",
       "    </tr>\n",
       "    <tr>\n",
       "      <th>4</th>\n",
       "      <td>448</td>\n",
       "      <td>952</td>\n",
       "      <td>1073</td>\n",
       "    </tr>\n",
       "  </tbody>\n",
       "</table>\n",
       "</div>"
      ],
      "text/plain": [
       "     x    y     z\n",
       "0  153  185   697\n",
       "1  672  680   697\n",
       "2  520  533   925\n",
       "3  756  765   925\n",
       "4  448  952  1073"
      ]
     },
     "execution_count": 2,
     "metadata": {},
     "output_type": "execute_result"
    }
   ],
   "source": [
    "df = pd.read_csv('c:/temp/pythagorean_100000.csv')\n",
    "df.head()"
   ]
  },
  {
   "cell_type": "code",
   "execution_count": 7,
   "metadata": {},
   "outputs": [],
   "source": [
    "def validateW4Triple(w:int, triple:tuple[int, int, int]) -> bool:\n",
    "    for i in triple:\n",
    "        if not is_square(i*i-w*w):\n",
    "            return False\n",
    "    return True"
   ]
  },
  {
   "cell_type": "code",
   "execution_count": 27,
   "metadata": {},
   "outputs": [],
   "source": [
    "for index, row in df.iterrows():\n",
    "    x = row['x']\n",
    "    y = row['y']\n",
    "    z = row['z']\n",
    "    for w in range(1, x):\n",
    "        #print(\"validating {0} against {1}\".format(w, [x,y,z]))\n",
    "        if validateW4Triple(w, [x,y,z]):\n",
    "            print([w,x,y,z])\n"
   ]
  },
  {
   "cell_type": "code",
   "execution_count": 20,
   "metadata": {},
   "outputs": [
    {
     "data": {
      "text/plain": [
       "y      z    \n",
       "59150  90610    3\n",
       "13875  52275    3\n",
       "9250   34850    3\n",
       "23125  87125    3\n",
       "29575  45305    3\n",
       "               ..\n",
       "23310  87822    1\n",
       "23250  23790    1\n",
       "23230  23426    1\n",
       "23205  35547    1\n",
       "99220  99671    1\n",
       "Length: 2037, dtype: int64"
      ]
     },
     "execution_count": 20,
     "metadata": {},
     "output_type": "execute_result"
    }
   ],
   "source": [
    "df.groupby(['y', 'z']).size().sort_values(ascending=False) \n",
    "#print(df['x'].value_counts())\n",
    "#print(df['y'].value_counts())\n",
    "#print(df['z'].value_counts())"
   ]
  },
  {
   "cell_type": "code",
   "execution_count": null,
   "metadata": {},
   "outputs": [],
   "source": [
    "quad=[7800,8584,9605,9997]\n",
    "\n",
    "w=quad[0]\n",
    "x=quad[1]\n",
    "y=quad[2]\n",
    "z=quad[3]\n",
    "\n",
    "def validateQuadruple(w:int, x:int, y, z:int) -> bool:\n",
    "    d1=z*z-y*y\n",
    "    d2=z*z-x*x\n",
    "    d3=z*z-w*w\n",
    "    d4=y*y-x*x\n",
    "    d5=y*y-w*w\n",
    "    d6=x*x-w*w\n",
    "    print([sqrt(d1),sqrt(d2),sqrt(d3),sqrt(d4),sqrt(d5),sqrt(d6)])\n",
    "    if is_square(d1) and is_square(d2) and is_square(d3) and is_square(d4) and is_square(d5) and is_square(d6):\n",
    "        return True\n",
    "    return False\n",
    "\n",
    "validateQuadruple(w,x,y,z)\n",
    "f=1 #73*1553*73*1553*73*1553\n",
    "validateQuadruple(w*f,x*f,y*f,z*f)\n",
    "\n",
    "#unfortunatelly 1020321=3*3*73*1553 is not a square\n",
    "#for f in range(2,1000000):\n",
    "#    validateQuadruple(w*f,x*f,y*f,z*f)"
   ]
  }
 ],
 "metadata": {
  "interpreter": {
   "hash": "ba7748335453189f9d38dabd374f9b1b064d42a7226279b34266d22bb23b64eb"
  },
  "kernelspec": {
   "display_name": "Python 3.9.7 64-bit ('base': conda)",
   "language": "python",
   "name": "python3"
  },
  "language_info": {
   "codemirror_mode": {
    "name": "ipython",
    "version": 3
   },
   "file_extension": ".py",
   "mimetype": "text/x-python",
   "name": "python",
   "nbconvert_exporter": "python",
   "pygments_lexer": "ipython3",
   "version": "3.9.7"
  },
  "orig_nbformat": 4
 },
 "nbformat": 4,
 "nbformat_minor": 2
}
